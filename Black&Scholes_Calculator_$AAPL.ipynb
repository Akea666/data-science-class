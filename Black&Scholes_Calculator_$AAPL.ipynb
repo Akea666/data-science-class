{
  "nbformat": 4,
  "nbformat_minor": 0,
  "metadata": {
    "colab": {
      "provenance": [],
      "authorship_tag": "ABX9TyPnfKNSzUw4wNGVMN4nKwgl"
    },
    "kernelspec": {
      "name": "python3",
      "display_name": "Python 3"
    },
    "language_info": {
      "name": "python"
    }
  },
  "cells": [
    {
      "cell_type": "code",
      "execution_count": 5,
      "metadata": {
        "colab": {
          "base_uri": "https://localhost:8080/"
        },
        "id": "lVNrkseHGe57",
        "outputId": "424b3013-df41-43e7-e627-8f611b075962"
      },
      "outputs": [
        {
          "output_type": "stream",
          "name": "stdout",
          "text": [
            "The price of the ATM put option on Apple is: 5.73\n"
          ]
        }
      ],
      "source": [
        "# prompt: Generate an option calculator using the Black & Scholes method to compute the price of a put ATM on Apple, you need to put datas yourself by installing a library or using the web\n",
        "\n",
        "!pip install yfinance\n",
        "\n",
        "import yfinance as yf\n",
        "import numpy as np\n",
        "from scipy.stats import norm\n",
        "\n",
        "def black_scholes_put(S, K, T, r, sigma):\n",
        "    \"\"\"Calculates the price of a European put option using the Black-Scholes model.\n",
        "\n",
        "    Args:\n",
        "        S: Current stock price.\n",
        "        K: Strike price.\n",
        "        T: Time to maturity (in years).\n",
        "        r: Risk-free interest rate (annualized).\n",
        "        sigma: Volatility of the underlying asset (annualized).\n",
        "\n",
        "    Returns:\n",
        "        The price of the European put option.\n",
        "    \"\"\"\n",
        "    d1 = (np.log(S / K) + (r + 0.5 * sigma ** 2) * T) / (sigma * np.sqrt(T))\n",
        "    d2 = d1 - sigma * np.sqrt(T)\n",
        "    put_price = K * np.exp(-r * T) * norm.cdf(-d2) - S * norm.cdf(-d1)\n",
        "    return put_price\n",
        "\n",
        "\n",
        "def main():\n",
        "    # Get Apple stock data\n",
        "    ticker = \"AAPL\"\n",
        "    stock = yf.Ticker(ticker)\n",
        "    data = stock.history(period=\"1d\") # Get current data\n",
        "\n",
        "    if data.empty:\n",
        "        print(\"Error: Could not retrieve stock data.\")\n",
        "        return\n",
        "\n",
        "    S = data[\"Close\"][0] # Current stock price\n",
        "\n",
        "    # --- User inputs ---\n",
        "    K = S #ATM option\n",
        "    T = input(\"Enter time to maturity (in years): \")\n",
        "    try:\n",
        "        T = float(T)\n",
        "    except ValueError:\n",
        "        print(\"Invalid input for time to maturity. Please enter a number.\")\n",
        "        return\n",
        "\n",
        "    r = input(\"Enter risk-free interest rate (annualized, e.g., 0.02 for 2%): \")\n",
        "    try:\n",
        "        r = float(r)\n",
        "    except ValueError:\n",
        "        print(\"Invalid input for risk-free interest rate. Please enter a number.\")\n",
        "        return\n",
        "\n",
        "    sigma = input(\"Enter volatility (annualized, e.g., 0.2 for 20%): \")\n",
        "    try:\n",
        "        sigma = float(sigma)\n",
        "    except ValueError:\n",
        "        print(\"Invalid input for volatility. Please enter a number.\")\n",
        "        return\n",
        "\n",
        "\n",
        "    # Calculate put option price\n",
        "    put_price = black_scholes_put(S, K, T, r, sigma)\n",
        "    print(f\"\\nThe Black-Scholes price of an ATM put option on {ticker} is: {put_price:.4f}\")\n",
        "\n",
        "\n",
        "if __name__ == \"__main__\":\n",
        "    main()\n"
      ]
    }
  ]
}